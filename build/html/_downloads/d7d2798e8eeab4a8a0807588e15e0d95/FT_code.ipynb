{
 "cells": [
  {
   "cell_type": "markdown",
   "metadata": {},
   "source": [
    "# 傅利叶变换: 以$f(t) = sin(2\\pi t)$为例"
   ]
  },
  {
   "cell_type": "markdown",
   "metadata": {},
   "source": [
    "## 1. 画出$f(t)=sin(2 \\pi t)$图像"
   ]
  },
  {
   "cell_type": "markdown",
   "metadata": {},
   "source": [
    "## 2. $e^{-i\\omega t}$长什么样子?"
   ]
  },
  {
   "cell_type": "code",
   "execution_count": null,
   "metadata": {},
   "outputs": [],
   "source": [
    "%matplotlib inline\n",
    "from ipywidgets import interactive\n",
    "import matplotlib.pyplot as plt\n",
    "from matplotlib.widgets import TextBox\n",
    "import numpy as np\n",
    "plt.rcParams['figure.figsize'] = (10.0, 10.0)\n",
    "\n",
    "def set_center_axis(ax):\n",
    "    ax.spines['right'].set_color('none')\n",
    "    ax.spines['top'].set_color('none')\n",
    "    ax.spines['bottom'].set_position(('data', 0))\n",
    "    ax.spines['left'].set_position(('data', 0))\n",
    "\n",
    "t = np.linspace(-2, 2, num=1000)\n",
    "f = np.sin(2*np.pi*t)\n",
    "plt.plot(t,f)\n",
    "set_center_axis(plt.gca())\n"
   ]
  },
  {
   "cell_type": "code",
   "execution_count": null,
   "metadata": {},
   "outputs": [],
   "source": [
    "n = 0\n",
    "def F(omega,t):\n",
    "    z = np.exp(-1j*omega*t)\n",
    "    print(z)\n",
    "    plt.arrow(0,0,z.real,z.imag,head_width=0.05, head_length=0.1)\n",
    "    plt.xlim(-1.1,1.1)\n",
    "    plt.ylim(-1.1,1.1)\n",
    "    ax1 = plt.gca()\n",
    "    ax1.set_xlabel('real',position=(1,0),fontsize = 14)\n",
    "    ax1.set_ylabel('imag',position=(0,1),fontsize = 14)\n",
    "    set_center_axis(plt.gca())\n",
    "    textstr = '\\n'.join((r'$e^{-i%.2f t}$' % (omega, ),))\n",
    "    ax1.text(0.5,0.5,textstr,fontsize = 30)\n",
    "    \n",
    "interactive_plot = interactive(F,omega=(0, 2*np.pi, 0.1),t=(0, 2*np.pi, 0.1))\n",
    "output = interactive_plot.children[-1]\n",
    "output.layout.height = '600px'\n",
    "\n",
    "interactive_plot"
   ]
  },
  {
   "cell_type": "markdown",
   "metadata": {},
   "source": [
    "## 3. $sin(2\\pi t)e^{-2\\pi i \\omega t}$ 和 $\\left| \\mathscr{F}[sin(2\\pi t)] \\right|$"
   ]
  },
  {
   "cell_type": "code",
   "execution_count": null,
   "metadata": {},
   "outputs": [],
   "source": [
    "\n",
    "\n",
    "ft_line = np.empty(shape =(1,2))\n",
    "def F(freq):\n",
    "    global ft_line\n",
    "    fig, (ax1, ax2) = plt.subplots(2, 1)\n",
    "    t = np.linspace(0, np.pi, num=1000)\n",
    "    ft = np.exp(2*np.pi*freq*1j*t) * np.sin(2*np.pi*t)\n",
    "    Amp = abs(ft.sum())\n",
    "    if ft_line.shape ==(1,2):\n",
    "        ft_line = np.array([[freq,Amp]])\n",
    "    ft_line = np.append(ft_line,np.array([[freq,Amp]]),axis=0)\n",
    "    ax1.plot(ft.real,ft.imag)\n",
    "    set_center_axis(ax1)\n",
    "    ax1.set_xlabel('real',position=(1,0),fontsize = 14)\n",
    "    ax1.set_ylabel('imag',position=(0,1),fontsize = 14)\n",
    "    ax1.set_aspect(1)\n",
    "    textstr = '\\n'.join((r'$sin(2\\pi t)e^{-2\\pi it}\\cdot e^{%.2f}$' % (freq, ),))\n",
    "    ax1.text(0.05,1.1,textstr,fontsize = 30)\n",
    "    ax2.scatter(ft_line[:,0],ft_line[:,1])\n",
    "    ax2.set_xlabel('$freq$',fontsize=14)\n",
    "    textstr2 = '\\n'.join((r'$ A = \\left|\\int^{+\\infty}_{-\\infty}sin(2\\pi t)e^{-2\\pi it}\\cdot e^{%.2f} dt\\right|$' % (freq, ),))\n",
    "    ax2.set_ylabel(textstr2,fontsize = 14)\n",
    "    \n",
    "interactive_plot = interactive(F,freq=(-2, 2, 0.01))\n",
    "output = interactive_plot.children[-1]\n",
    "output.layout.height = '1000px'\n",
    "\n",
    "interactive_plot"
   ]
  }
 ],
 "metadata": {
  "kernelspec": {
   "display_name": "Python 3",
   "language": "python",
   "name": "python3"
  },
  "language_info": {
   "codemirror_mode": {
    "name": "ipython",
    "version": 3
   },
   "file_extension": ".py",
   "mimetype": "text/x-python",
   "name": "python",
   "nbconvert_exporter": "python",
   "pygments_lexer": "ipython3",
   "version": "3.8.5"
  }
 },
 "nbformat": 4,
 "nbformat_minor": 4
}
